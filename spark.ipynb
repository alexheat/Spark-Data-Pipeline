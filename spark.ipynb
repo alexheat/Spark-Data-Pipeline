{
 "cells": [
  {
   "cell_type": "code",
   "execution_count": 13,
   "metadata": {},
   "outputs": [
    {
     "name": "stdout",
     "output_type": "stream",
     "text": [
      "+----+--------------------+------+---------+------+--------------------+-------------+\n",
      "| key|               value| topic|partition|offset|           timestamp|timestampType|\n",
      "+----+--------------------+------+---------+------+--------------------+-------------+\n",
      "|null|[7B 22 65 76 65 6...|events|        0|     0|2020-07-12 16:53:...|            0|\n",
      "|null|[7B 22 65 76 65 6...|events|        0|     1|2020-07-12 16:54:...|            0|\n",
      "|null|[7B 22 65 76 65 6...|events|        0|     2|2020-07-12 16:55:...|            0|\n",
      "|null|[7B 22 65 76 65 6...|events|        0|     3|2020-07-12 16:55:...|            0|\n",
      "|null|[7B 22 65 76 65 6...|events|        0|     4|2020-07-12 16:56:...|            0|\n",
      "|null|[7B 22 65 76 65 6...|events|        0|     5|2020-07-12 16:56:...|            0|\n",
      "|null|[7B 22 65 76 65 6...|events|        0|     6|2020-07-12 16:56:...|            0|\n",
      "|null|[7B 22 65 76 65 6...|events|        0|     7|2020-07-12 16:56:...|            0|\n",
      "|null|[7B 22 65 76 65 6...|events|        0|     8|2020-07-12 16:56:...|            0|\n",
      "|null|[7B 22 65 76 65 6...|events|        0|     9|2020-07-12 16:56:...|            0|\n",
      "|null|[7B 22 65 76 65 6...|events|        0|    10|2020-07-12 16:56:...|            0|\n",
      "|null|[7B 22 65 76 65 6...|events|        0|    11|2020-07-12 16:56:...|            0|\n",
      "|null|[7B 22 65 76 65 6...|events|        0|    12|2020-07-12 16:56:...|            0|\n",
      "|null|[7B 22 65 76 65 6...|events|        0|    13|2020-07-12 16:57:...|            0|\n",
      "|null|[7B 22 65 76 65 6...|events|        0|    14|2020-07-12 16:57:...|            0|\n",
      "|null|[7B 22 65 76 65 6...|events|        0|    15|2020-07-12 16:58:...|            0|\n",
      "|null|[7B 22 65 76 65 6...|events|        0|    16|2020-07-12 16:58:...|            0|\n",
      "|null|[7B 22 65 76 65 6...|events|        0|    17|2020-07-12 16:58:...|            0|\n",
      "|null|[7B 22 65 76 65 6...|events|        0|    18|2020-07-12 16:58:...|            0|\n",
      "|null|[7B 22 65 76 65 6...|events|        0|    19|2020-07-12 16:59:...|            0|\n",
      "+----+--------------------+------+---------+------+--------------------+-------------+\n",
      "only showing top 20 rows\n",
      "\n"
     ]
    }
   ],
   "source": [
    "import json\n",
    "from pyspark.sql.functions import explode, split\n",
    "from pyspark.sql.types import StructType, StructField, StringType, IntegerType, TimestampType, MapType, ArrayType, BooleanType\n",
    "#Convert data Unix timestamp to datetime\n",
    "from pyspark.sql.functions import from_unixtime\n",
    "from pyspark.sql.functions import countDistinct\n",
    "from pyspark.sql.functions import count\n",
    "from pyspark.sql.functions import desc\n",
    "import pyspark.sql.functions as f\n",
    "\n",
    "\n",
    "game_api_raw = spark \\\n",
    "  .read \\\n",
    "  .format(\"kafka\") \\\n",
    "  .option(\"kafka.bootstrap.servers\", \"kafka:29092\") \\\n",
    "  .option(\"subscribe\",\"events\") \\\n",
    "  .option(\"startingOffsets\", \"earliest\") \\\n",
    "  .option(\"endingOffsets\", \"latest\") \\\n",
    "  .load() \n",
    "game_api_raw.cache()\n",
    "game_api_raw.show()"
   ]
  },
  {
   "cell_type": "code",
   "execution_count": 14,
   "metadata": {},
   "outputs": [
    {
     "name": "stdout",
     "output_type": "stream",
     "text": [
      "root\n",
      " |-- key: binary (nullable = true)\n",
      " |-- value: binary (nullable = true)\n",
      " |-- topic: string (nullable = true)\n",
      " |-- partition: integer (nullable = true)\n",
      " |-- offset: long (nullable = true)\n",
      " |-- timestamp: timestamp (nullable = true)\n",
      " |-- timestampType: integer (nullable = true)\n",
      "\n"
     ]
    },
    {
     "data": {
      "text/plain": [
       "136"
      ]
     },
     "execution_count": 14,
     "metadata": {},
     "output_type": "execute_result"
    }
   ],
   "source": [
    "game_api_raw.printSchema()\n",
    "game_api_raw.count()"
   ]
  },
  {
   "cell_type": "code",
   "execution_count": 16,
   "metadata": {},
   "outputs": [
    {
     "name": "stdout",
     "output_type": "stream",
     "text": [
      "+--------------------+\n",
      "|               value|\n",
      "+--------------------+\n",
      "|{\"event_type\": \"d...|\n",
      "|{\"event_type\": \"d...|\n",
      "|{\"event_type\": \"d...|\n",
      "|{\"event_type\": \"d...|\n",
      "|{\"event_type\": \"d...|\n",
      "|{\"event_type\": \"d...|\n",
      "|{\"event_type\": \"d...|\n",
      "|{\"event_type\": \"d...|\n",
      "|{\"event_type\": \"d...|\n",
      "|{\"event_type\": \"d...|\n",
      "|{\"event_type\": \"d...|\n",
      "|{\"event_type\": \"d...|\n",
      "|{\"event_type\": \"d...|\n",
      "|{\"event_type\": \"d...|\n",
      "|{\"event_type\": \"d...|\n",
      "|{\"event_type\": \"d...|\n",
      "|{\"event_type\": \"d...|\n",
      "|{\"event_type\": \"d...|\n",
      "|{\"event_type\": \"d...|\n",
      "|{\"event_type\": \"d...|\n",
      "+--------------------+\n",
      "only showing top 20 rows\n",
      "\n"
     ]
    }
   ],
   "source": [
    "#Get the 'value' field and cast it as a string \n",
    "game_api_string = game_api_raw.select(game_api_raw.value.cast('string'))\n",
    "game_api_string.show()"
   ]
  },
  {
   "cell_type": "code",
   "execution_count": 17,
   "metadata": {},
   "outputs": [
    {
     "name": "stdout",
     "output_type": "stream",
     "text": [
      "+----------+\n",
      "|event_type|\n",
      "+----------+\n",
      "|   default|\n",
      "|   default|\n",
      "|   default|\n",
      "|   default|\n",
      "|   default|\n",
      "|   default|\n",
      "|   default|\n",
      "|   default|\n",
      "|   default|\n",
      "|   default|\n",
      "|   default|\n",
      "|   default|\n",
      "|   default|\n",
      "|   default|\n",
      "|   default|\n",
      "|   default|\n",
      "|   default|\n",
      "|   default|\n",
      "|   default|\n",
      "|   default|\n",
      "|   default|\n",
      "|   default|\n",
      "|   default|\n",
      "|   default|\n",
      "|   default|\n",
      "|   default|\n",
      "|   default|\n",
      "|   default|\n",
      "|   default|\n",
      "|   default|\n",
      "|   default|\n",
      "|   default|\n",
      "|   default|\n",
      "|   default|\n",
      "|   default|\n",
      "|   default|\n",
      "|   default|\n",
      "|   default|\n",
      "|   default|\n",
      "|   default|\n",
      "|   default|\n",
      "|   default|\n",
      "|   default|\n",
      "|   default|\n",
      "|   default|\n",
      "|   default|\n",
      "|   default|\n",
      "|   default|\n",
      "|   default|\n",
      "|   default|\n",
      "|   default|\n",
      "|   default|\n",
      "|   default|\n",
      "|   default|\n",
      "|   default|\n",
      "|   default|\n",
      "|   default|\n",
      "|   default|\n",
      "|   default|\n",
      "|   default|\n",
      "|   default|\n",
      "|   default|\n",
      "|   default|\n",
      "|   default|\n",
      "|   default|\n",
      "|   default|\n",
      "|   default|\n",
      "|   default|\n",
      "|   default|\n",
      "|   default|\n",
      "|   default|\n",
      "|   default|\n",
      "|   default|\n",
      "|   default|\n",
      "|   default|\n",
      "|   default|\n",
      "|   default|\n",
      "|   default|\n",
      "|   default|\n",
      "|   default|\n",
      "|   default|\n",
      "|   default|\n",
      "|   default|\n",
      "|   default|\n",
      "|   default|\n",
      "|   default|\n",
      "|   default|\n",
      "|   default|\n",
      "|   default|\n",
      "|   default|\n",
      "|   default|\n",
      "|   default|\n",
      "|   default|\n",
      "|   default|\n",
      "|   default|\n",
      "|   default|\n",
      "|   default|\n",
      "|   default|\n",
      "|   default|\n",
      "|   default|\n",
      "+----------+\n",
      "only showing top 100 rows\n",
      "\n"
     ]
    },
    {
     "name": "stderr",
     "output_type": "stream",
     "text": [
      "/spark-2.2.0-bin-hadoop2.6/python/pyspark/sql/session.py:351: UserWarning: Using RDD of dict to inferSchema is deprecated. Use pyspark.sql.Row instead\n",
      "  warnings.warn(\"Using RDD of dict to inferSchema is deprecated. \"\n"
     ]
    }
   ],
   "source": [
    "game_api_df = game_api_string.rdd.map(lambda x: json.loads(x.value)).toDF()\n",
    "game_api_df.show(100)"
   ]
  },
  {
   "cell_type": "code",
   "execution_count": 27,
   "metadata": {},
   "outputs": [
    {
     "ename": "AttributeError",
     "evalue": "'DataFrame' object has no attribute 'column'",
     "output_type": "error",
     "traceback": [
      "\u001b[0;31m---------------------------------------------------------------------------\u001b[0m",
      "\u001b[0;31mAttributeError\u001b[0m                            Traceback (most recent call last)",
      "\u001b[0;32m<ipython-input-27-19c78061626d>\u001b[0m in \u001b[0;36m<module>\u001b[0;34m()\u001b[0m\n\u001b[0;32m----> 1\u001b[0;31m \u001b[0mgame_api_df\u001b[0m\u001b[0;34m.\u001b[0m\u001b[0mwithColumn\u001b[0m\u001b[0;34m(\u001b[0m\u001b[0;34m'timestamp'\u001b[0m\u001b[0;34m,\u001b[0m \u001b[0mgame_api_raw\u001b[0m\u001b[0;34m.\u001b[0m\u001b[0mcolumn\u001b[0m\u001b[0;34m(\u001b[0m\u001b[0;34m'timestamp'\u001b[0m\u001b[0;34m)\u001b[0m\u001b[0;34m)\u001b[0m\u001b[0;34m.\u001b[0m\u001b[0mshow\u001b[0m\u001b[0;34m(\u001b[0m\u001b[0;34m)\u001b[0m\u001b[0;34m\u001b[0m\u001b[0m\n\u001b[0m",
      "\u001b[0;32m/spark-2.2.0-bin-hadoop2.6/python/pyspark/sql/dataframe.py\u001b[0m in \u001b[0;36m__getattr__\u001b[0;34m(self, name)\u001b[0m\n\u001b[1;32m   1018\u001b[0m         \u001b[0;32mif\u001b[0m \u001b[0mname\u001b[0m \u001b[0;32mnot\u001b[0m \u001b[0;32min\u001b[0m \u001b[0mself\u001b[0m\u001b[0;34m.\u001b[0m\u001b[0mcolumns\u001b[0m\u001b[0;34m:\u001b[0m\u001b[0;34m\u001b[0m\u001b[0m\n\u001b[1;32m   1019\u001b[0m             raise AttributeError(\n\u001b[0;32m-> 1020\u001b[0;31m                 \"'%s' object has no attribute '%s'\" % (self.__class__.__name__, name))\n\u001b[0m\u001b[1;32m   1021\u001b[0m         \u001b[0mjc\u001b[0m \u001b[0;34m=\u001b[0m \u001b[0mself\u001b[0m\u001b[0;34m.\u001b[0m\u001b[0m_jdf\u001b[0m\u001b[0;34m.\u001b[0m\u001b[0mapply\u001b[0m\u001b[0;34m(\u001b[0m\u001b[0mname\u001b[0m\u001b[0;34m)\u001b[0m\u001b[0;34m\u001b[0m\u001b[0m\n\u001b[1;32m   1022\u001b[0m         \u001b[0;32mreturn\u001b[0m \u001b[0mColumn\u001b[0m\u001b[0;34m(\u001b[0m\u001b[0mjc\u001b[0m\u001b[0;34m)\u001b[0m\u001b[0;34m\u001b[0m\u001b[0m\n",
      "\u001b[0;31mAttributeError\u001b[0m: 'DataFrame' object has no attribute 'column'"
     ]
    }
   ],
   "source": [
    "game_api_df.withColumn('timestamp', game_api_raw.column('timestamp')).show()"
   ]
  },
  {
   "cell_type": "code",
   "execution_count": 24,
   "metadata": {},
   "outputs": [
    {
     "name": "stdout",
     "output_type": "stream",
     "text": [
      "+--------------------+\n",
      "|           timestamp|\n",
      "+--------------------+\n",
      "|2020-07-12 16:53:...|\n",
      "|2020-07-12 16:54:...|\n",
      "|2020-07-12 16:55:...|\n",
      "|2020-07-12 16:55:...|\n",
      "|2020-07-12 16:56:...|\n",
      "|2020-07-12 16:56:...|\n",
      "|2020-07-12 16:56:...|\n",
      "|2020-07-12 16:56:...|\n",
      "|2020-07-12 16:56:...|\n",
      "|2020-07-12 16:56:...|\n",
      "|2020-07-12 16:56:...|\n",
      "|2020-07-12 16:56:...|\n",
      "|2020-07-12 16:56:...|\n",
      "|2020-07-12 16:57:...|\n",
      "|2020-07-12 16:57:...|\n",
      "|2020-07-12 16:58:...|\n",
      "|2020-07-12 16:58:...|\n",
      "|2020-07-12 16:58:...|\n",
      "|2020-07-12 16:58:...|\n",
      "|2020-07-12 16:59:...|\n",
      "+--------------------+\n",
      "only showing top 20 rows\n",
      "\n"
     ]
    }
   ],
   "source": [
    "game_api_raw.select('timestamp').show()"
   ]
  },
  {
   "cell_type": "code",
   "execution_count": 34,
   "metadata": {},
   "outputs": [
    {
     "data": {
      "text/plain": [
       "'2020-07-16 04:42:30.745807'"
      ]
     },
     "execution_count": 34,
     "metadata": {},
     "output_type": "execute_result"
    }
   ],
   "source": [
    "from datetime import datetime\n",
    "str(datetime.now())"
   ]
  },
  {
   "cell_type": "code",
   "execution_count": null,
   "metadata": {
    "collapsed": true,
    "jupyter": {
     "outputs_hidden": true
    }
   },
   "outputs": [],
   "source": []
  }
 ],
 "metadata": {
  "environment": {
   "name": "tf2-gpu.2-1.m46",
   "type": "gcloud",
   "uri": "gcr.io/deeplearning-platform-release/tf2-gpu.2-1:m46"
  },
  "kernelspec": {
   "display_name": "Python 3",
   "language": "python",
   "name": "python3"
  },
  "language_info": {
   "codemirror_mode": {
    "name": "ipython",
    "version": 3
   },
   "file_extension": ".py",
   "mimetype": "text/x-python",
   "name": "python",
   "nbconvert_exporter": "python",
   "pygments_lexer": "ipython3",
   "version": "3.7.6"
  }
 },
 "nbformat": 4,
 "nbformat_minor": 4
}
